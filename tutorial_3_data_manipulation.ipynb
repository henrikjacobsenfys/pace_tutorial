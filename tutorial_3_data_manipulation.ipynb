{
 "cells": [
  {
   "cell_type": "markdown",
   "id": "43af2c02",
   "metadata": {},
   "source": [
    "## Manipulating the data\n",
    "There are two important ways to manipulate these large data sets: background subtraction and symmetrisation. We shall here go through both of them, starting with background subtraction. We first need to discuss `sqw` and `dnd` objects, then we have a look at our data once more.\n",
    "\n",
    "## A note on .sqw vs dnd objects\n",
    "The data in a `sqw` object (a file or a slice/cut that is stored in memory) is a list of pixels, the calculated values of `h`, `k`, `l` and `E`, and the neutron intensities and variances. When we plot a `sqw` object, the data is binned into the chosen bins and plotted. However, the original data persits, and no information is lost, no matter which way we cut and slice a `sqw` object.\n",
    "When subtracting backgroumd, we want to extrapolate the background to other regions, which is meaningless for a `sqw` object. \n",
    "To solve this problem, any `sqw` object can be converted to a `dnd` object, where the `n` is the number of dimensions. Here, we'll work with `d1d` and `d2d` objects. They are essentialy matrices with the binning defined in the cut command. Such matrices can of course be replicated and manipulated in the way we want to, to subtract the background."
   ]
  },
  {
   "cell_type": "code",
   "execution_count": null,
   "id": "32113325",
   "metadata": {},
   "outputs": [],
   "source": [
    "from pace_neutrons import Matlab\n",
    "m = Matlab() \n",
    "\n",
    "sqw_file = 'demo.sqw'\n",
    "proj = {\n",
    "    'u': [1, 0, 0],\n",
    "    'v': [0, 1, 0],\n",
    "    'type': 'rrr'\n",
    "}\n",
    "\n",
    "%matlab_plot_mode inline inline\n",
    "%matlab_fig -w 1600 -h 1200 \n",
    "# 2D slice\n",
    "cc2 = m.cut_sqw(sqw_file, proj, [-2, 0.05, 1], [-2-0.1, -2+0.1], [-0.1, 0.1], [0, 16, 400])\n",
    "m.plot(cc2)\n"
   ]
  },
  {
   "cell_type": "markdown",
   "id": "92c187da",
   "metadata": {},
   "source": [
    "## Background subtraction\n",
    "To subtract background, we make a 1d cut of our data set in a region with no signal, and replicate it to cover the full range of the slice. Notice that we take the cut from the 2d slice instead of the full `sqw` file. This saves time and gives the same result, as the 1d data is a subset of the 2d data. We take the cut\n",
    "\n",
    "\n",
    "## Screenshot of where background is taken"
   ]
  },
  {
   "cell_type": "code",
   "execution_count": null,
   "id": "2b28b2b5",
   "metadata": {},
   "outputs": [],
   "source": [
    "# Background reference\n",
    "backgroundcut = m.cut(cc2, [-1.1, -0.9], [])\n",
    "backgroundcut = m.d1d(backgroundcut)\n",
    "\n",
    "# Replicate to cover full range of 2D slice\n",
    "dd2 = m.d2d(cc2)\n",
    "wback = m.replicate(backgroundcut, dd2)\n",
    "%matlab_fig -w 1600 -h 1200 \n",
    "m.plot(wback)\n"
   ]
  },
  {
   "cell_type": "code",
   "execution_count": null,
   "id": "a8ed8287",
   "metadata": {},
   "outputs": [],
   "source": [
    "\n",
    "# Subtract from the 2D cut\n",
    "wdiff = dd2 - wback\n",
    "%matlab_fig -w 1600 -h 1200 \n",
    "m.plot(wdiff)"
   ]
  },
  {
   "cell_type": "markdown",
   "id": "c7182e43",
   "metadata": {},
   "source": [
    "## Symmetrising data\n",
    "We have gaps in our data due to limited detector coverage. We can fill these gaps, and improve the overall statistics, by symmetrising our data. What this does it take data from one region in reciprocal space, and, using symmetry operations, folding it into another region. \n",
    "\n",
    "We shall here give a few simple examples. Details can be found in the Horace documentation: https://pace-neutrons.github.io/Horace/v4.0.0/manual/Symmetrising_etc.html \n",
    "\n",
    "Symmetry operations are generally defined by a matrix and an offset. Several helper classes exist to calculate these matrices, and it is highly recommended to use them.\n",
    "We shall illustrate one of the more common symmetry operations: reflections across a plane. We use the `SymopReflection` class to calculate the matrix and the offset. The input is three 3-vectors; two vectors which define the plane of reflection, and a vector which defines a point on the plane (the offset). \n",
    "We shall here reflect the data in the plane spanned by `[0,1,0]` and `[0,0,1]`, offset by `[0,-2,0]`, indicated by the red line:\n",
    "\n",
    "<img src='_images/symmetry.jpg' width='800px'></img>"
   ]
  },
  {
   "cell_type": "code",
   "execution_count": null,
   "id": "9d71ae6c",
   "metadata": {},
   "outputs": [],
   "source": [
    "sym = m.SymopReflection([0, 1, 0], [0, 0, 1], [0, -2, 0]); #Define two vectors in the symmetry plane, and the offset\n",
    "\n",
    "#Plot the un-symmetrised data\n",
    "# 2D slice\n",
    "cc2 = m.cut_sqw(sqw_file, proj, [-2, 0.05, 1], [-2-0.1, -2+0.1], [-0.1, 0.1], [0, 16, 400])\n",
    "%matlab_fig -w 1600 -h 1200 \n",
    "m.plot(cc2)\n",
    "m.keep_figure()\n",
    "\n",
    "#And the symmetrised data\n",
    "w2 = m.symmetrise_sqw(cc2, sym)\n",
    "%matlab_fig -w 1600 -h 1200 \n",
    "m.plot(w2)\n",
    "m.keep_figure()"
   ]
  },
  {
   "cell_type": "code",
   "execution_count": null,
   "id": "6de4a3e4",
   "metadata": {},
   "outputs": [],
   "source": [
    "\n",
    "\n"
   ]
  }
 ],
 "metadata": {
  "kernelspec": {
   "display_name": "pace_env",
   "language": "python",
   "name": "python3"
  },
  "language_info": {
   "codemirror_mode": {
    "name": "ipython",
    "version": 3
   },
   "file_extension": ".py",
   "mimetype": "text/x-python",
   "name": "python",
   "nbconvert_exporter": "python",
   "pygments_lexer": "ipython3",
   "version": "3.10.16"
  }
 },
 "nbformat": 4,
 "nbformat_minor": 5
}
