{
 "cells": [
  {
   "cell_type": "markdown",
   "id": "5cfd4035-793b-4f75-b798-4a9ba65213b0",
   "metadata": {},
   "source": [
    "# How to use pace - a short introduction\n",
    "\n",
    "## Note on how long it takes\n",
    "\n",
    "## Installation\n",
    "The easiest way to install pace on VISA is to download and run the following shell script: XXXXXXXX.\n",
    "\n",
    "This will create an environment ..... explain.\n",
    "\n",
    "To install pace manually, follow the installation guidelines on the pace_python github https://github.com/pace-neutrons/pace-python. pace requires Matlab Compiler Runtime to be installed. Be careful to set the right library paths at the end of installation, as the program will not run if this is done incorrectly.\n",
    "\n",
    "To test if it works, run the following Python code.\n"
   ]
  },
  {
   "cell_type": "code",
   "execution_count": 1,
   "id": "a3ae63c0",
   "metadata": {},
   "outputs": [
    {
     "name": "stdout",
     "output_type": "stream",
     "text": [
      "Interface opened\n",
      "Warning: herbert_config has been rendered obsolete and has been removed. \n",
      "All features have moved to hor_config\n",
      "> In herbert_config (line 3)Warning: Cannot find test path, possible failed setup\n",
      "!==================================================================!\n",
      "!          ISIS utilities for visualization and analysis           !\n",
      "!                   of neutron spectroscopy data                   !\n",
      "!                          Herbert 4.0.0                           !\n",
      "!------------------------------------------------------------------!\n",
      "Warning: herbert_config has been rendered obsolete and has been removed. \n",
      "All features have moved to hor_config\n",
      "!==================================================================!\n",
      "!                           Horace 4.0.0                           !\n",
      "!------------------------------------------------------------------!\n",
      "!   Visualisation of multi-dimensional neutron spectroscopy data   !\n",
      "!                                                                  !\n",
      "!           R.A. Ewings, A. Buts, M.D. Le, J van Duijn,            !\n",
      "!                  I. Bustinduy, and T.G. Perring                  !\n",
      "!                                                                  !\n",
      "!             Nucl. Inst. Meth. A 834, 132-142 (2016)              !\n",
      "!                                                                  !\n",
      "!           http://dx.doi.org/10.1016/j.nima.2016.07.036           !\n",
      "!------------------------------------------------------------------!\n"
     ]
    }
   ],
   "source": [
    "from pace_neutrons import Matlab\n",
    "m = Matlab()"
   ]
  },
  {
   "cell_type": "markdown",
   "id": "3cbce183",
   "metadata": {},
   "source": [
    "\n",
    "It will look something like this:\n",
    "\n",
    "<img src='_images/pace_initialised.jpg' width='800px'></img>\n",
    "\n",
    "## pace basics\n",
    "pace works with `sqw` objects, which contain all the data from an experiment. They are often large, i.e. hundreds of GB. `scipp` can directly generate `sqw` files from raw Bifrost data files (see section XXXXX). In traditional time-of-flight experiments, a data set is collected by measuring a number of sample rotations. Each of these produces a file (typically named `.spe` or `.nxspe`), and pace can then generate an `.sqw` file from the collected data.\n",
    "A complete list of operations one can perform on `sqw` files is out of scope of this tutorial, but we will showcase the most important ones:\n",
    "\n",
    "- Plotting and slicing data in 1, 2 and 3 dimensions\n",
    "- Symmetrising data \n",
    "- Fitting data in 1-4 dimensions to simple models\n",
    "\n",
    "Furthermore, pace is capable of\n",
    "- Fitting data to complex models such as spin waves (either analytical or using e.g. `SpinW`) or phonons (either analytical or using e.g. `euphonic` ), including local background\n",
    "- Calculating the resolution function of time-of-flight spectrometers and including it in calculations/fits\n",
    "\n",
    "pace is originally a `Matlab` library, and it is only partially ported to `Python`. This means that most functionality is run through Matlab Compiler Runtime. In practice, this means `Matlab` is imported, and all commands are run through `Matlab`\n",
    "\n",
    "## Getting started\n",
    "To get started, we will work with a synthetic data set. The tutorial roughly follows the tutorials available at the pace_python github https://github.com/pace-neutrons/pace-python, but with some modifications and additions.\n",
    "\n",
    "We will first need to generate some synthetic data to work with. We do this by generating a set of .nxspe files, and combining them to a `.sqw` file. Note that at Bifrost, we expect to generate the `.sqw` file using other methods. Either way, the end result is that there is a .sqw file in your workspace. In this case, we call it `demo.sqw`.\n",
    "\n",
    "To generate the data, run the 'generate_data.ipynb' notebook. It will take a handful of minutes generate the data; you should see files appearing in your folder named `HoraceDemoDataFile1.nxspe` etc."
   ]
  }
 ],
 "metadata": {
  "kernelspec": {
   "display_name": "pace_env",
   "language": "python",
   "name": "python3"
  },
  "language_info": {
   "codemirror_mode": {
    "name": "ipython",
    "version": 3
   },
   "file_extension": ".py",
   "mimetype": "text/x-python",
   "name": "python",
   "nbconvert_exporter": "python",
   "pygments_lexer": "ipython3",
   "version": "3.10.16"
  }
 },
 "nbformat": 4,
 "nbformat_minor": 5
}
