{
 "cells": [
  {
   "cell_type": "markdown",
   "id": "43af2c02",
   "metadata": {},
   "source": [
    "## Plotting the data\n",
    "Now it's time to have fun plotting the data. We need to define which axes we want to view the data along. For example, sometimes we may want to view along (1,0,0), (0,1,0) and (0,0,1), while other times, it may be useful to view along a different pair of directions, such as (1,1,0),(1,-1,0) and (0,0,1). The choice of primary axes is made using the proj dictionary, as seen below.\n",
    "\n",
    "To make a plot, we need to cut the .sqw file in some way. We use the `cut_sqw` command for this. It takes as input the `.sqw` file, the projection axes, and four arrays: one for each primary axis, the fourth being energy. For each of the arrays, there are two options. If the user provides two values, e.g. `[-0.1,0.1]` the counts between these two values are summed, and the axis is not viewed. If the user provides three values, e.g. `[-2,0.05,1]`, the data is binned along this axis in bins starting at the first value (`-2`), with a step size of the middle value (`0.05`), ending at the last value (`1`). \n",
    "\n",
    "The type of cut therefore depends on how many directions the user sums over. Some examples are given below.\n",
    "\n",
    "Details can be found in the Horace documentation: https://pace-neutrons.github.io/Horace/v4.0.0/manual/Cutting_data_of_interest_from_SQW_files_and_objects.html#cut "
   ]
  },
  {
   "cell_type": "code",
   "execution_count": null,
   "id": "32113325",
   "metadata": {},
   "outputs": [],
   "source": [
    "from pace_neutrons import Matlab\n",
    "m = Matlab()"
   ]
  },
  {
   "cell_type": "code",
   "execution_count": null,
   "id": "eb3bfbf4",
   "metadata": {},
   "outputs": [],
   "source": [
    "\n",
    "sqw_file = 'demo.sqw'\n",
    "proj = {\n",
    "    'u': [1, 0, 0],\n",
    "    'v': [0, 1, 0],\n",
    "    'type': 'rrr'\n",
    "}\n",
    "\n",
    "%matlab_plot_mode inline inline\n",
    "%matlab_fig -w 1600 -h 1200 \n",
    "# 2D slice\n",
    "slice2d = m.cut_sqw(sqw_file, proj, [-2, 0.05, 1], [-2-0.1, -2+0.1], [-0.1, 0.1], [0, 16, 400])\n",
    "m.plot(slice2d)\n"
   ]
  },
  {
   "cell_type": "markdown",
   "id": "cdce3933",
   "metadata": {},
   "source": [
    "# A note on figures\n",
    "There are two ways to make Matlab figures in a Jupyter Notebook. Details can be found in the documentation: https://github.com/pace-neutrons/pace-python/blob/main/docs/IPythonMagics_commands.md.\n",
    "\n",
    "The first methods is inline as shown above. As illustrated, the size of the figure can be varied as illustrated above using the `%matlab_fig -w 1600 -h 1200 ` command, where -w and -h give the width and height of the figure, respectively. The figure is simply a screenshot of the Matlab figure, and can therefore not be edited.\n",
    "\n",
    "The second method is windowed figures, which opens a Matlab figure, which can then be edited at will. The command is `%matlab_plot_mode windowed`. We shall illustrate it in the following cell, then stick to the inline figures."
   ]
  },
  {
   "cell_type": "code",
   "execution_count": null,
   "id": "4e7ffd8f",
   "metadata": {},
   "outputs": [],
   "source": [
    "\n",
    "%matlab_plot_mode windowed\n",
    "m.plot(slice2d)\n",
    "m.keep_figure() # Keeps the figure open instead of overwriting it with the next plot\n"
   ]
  },
  {
   "cell_type": "code",
   "execution_count": null,
   "id": "8ac95d3f",
   "metadata": {},
   "outputs": [],
   "source": [
    "%matlab_plot_mode inline inline\n",
    "%matlab_fig -w 1600 -h 1200 \n",
    "# 1D cut\n",
    "cut1d = m.cut_sqw(sqw_file, proj, [1.9, 2.1], [-3, 0.05, 3], [-0.1, 0.1], [180, 220])\n",
    "a=m.plot(cut1d)\n"
   ]
  },
  {
   "cell_type": "markdown",
   "id": "c0a3ff3a",
   "metadata": {},
   "source": [
    "You can also plot in 3D, and make 2D slices interactively as you please. For this, windowed mode is obviously best. Try it out, and try also to make other 1D and 2D cuts. It should look like this:\n",
    "\n",
    "<img src='_images/sliceomatic.jpg' width='800px'></img>\n",
    "\n",
    "\n",
    "You can select which surfaces to plot by clicking on the sliders next to each axis. In this example, three surfaces are shown, indicated by the green arrows."
   ]
  },
  {
   "cell_type": "code",
   "execution_count": null,
   "id": "325ea06e",
   "metadata": {},
   "outputs": [],
   "source": [
    "%matlab_plot_mode windowed\n",
    "cc3 = m.cut_sqw(sqw_file, proj, [-2, 0.05, 2], [-2, 0.05, 2], [-0.1, 0.1], [0, 16, 400])\n",
    "m.plot(cc3)\n",
    "m.keep_figure()\n"
   ]
  },
  {
   "cell_type": "markdown",
   "id": "e09cba5c",
   "metadata": {},
   "source": [
    "Finally, let us look at \"spaghetti\" plots, tracing out a path in reciprocal space. We here arbitrarily choose the path [0,0,0] &rarr; [-2, -2, 0] &rarr; [1, -2, 0] &rarr; [-2, -2, 0]. The method takes a bunch of optional arguments, in the format `'argument'`, `value`. For example, `'qwidth',0.5` gives the integration range in perpendicular directions in Å-1. "
   ]
  },
  {
   "cell_type": "code",
   "execution_count": null,
   "id": "fda204ab",
   "metadata": {},
   "outputs": [],
   "source": [
    "\n",
    "\n",
    "wsp = m.spaghetti_plot([[0,0, 0], [-2, -2, 0], [1, -2, 0], [-2, -2, 0]],sqw_file,'qwidth',0.5,'qbin',0.1,'ebin',[0,16,400]) #,'labels',{'\\\\Gamma','R','M'})\n",
    "\n",
    "m.plot(wsp)\n",
    "m.clim([0,1.5])\n"
   ]
  },
  {
   "cell_type": "markdown",
   "id": "420014f7",
   "metadata": {},
   "source": [
    "# A note on help \n",
    "Since pace_python is a Python wrapper of a Matlab library, some things are not quite as smooth as pure Matlab or pure Python. For example, it can be difficult to figure out how to use functions. To this end, we provide a helper to extract the help part f the Horace functions. As an example, we show how to find more information about the `spaghetti_plot` method used above. To see the full output, click \"view as a scrollable element\" at the bottom of the cell"
   ]
  },
  {
   "cell_type": "code",
   "execution_count": 3,
   "id": "72cb3009",
   "metadata": {},
   "outputs": [
    {
     "name": "stdout",
     "output_type": "stream",
     "text": [
      "Help for `spaghetti_plot` (from horace_core/spaghetti_plot.m):\n",
      "\n",
      "Plots the data in an sqw file or object along a path in reciprocal space\n",
      "\n",
      ">> spaghetti_plot(rlp,data_source)\n",
      ">> spaghetti_plot(wdisp)\n",
      "\n",
      ">> spaghetti_plot(...,'labels',{'G','X',...})            % customised labels\n",
      ">> spaghetti_plot(...,'smooth',1)                        % smooth data with this width\n",
      ">> spaghetti_plot(...,'smooth_shape','hat')              % smooth data with this shape\n",
      ">> spaghetti_plot(...,'qbin',qb)                         % specify q bin size in 1/Ang\n",
      ">> spaghetti_plot(...,'qwidth',qi)                       % specify q integration width in 1/Ang\n",
      ">> spaghetti_plot(...,'qwidth', [0.1; 0.3; ...])         % square q integration for each segment\n",
      ">> spaghetti_plot(...,'qwidth', [0.1 0.1; 0.3 0.1; ...]) % q integration for each segment\n",
      ">> spaghetti_plot(...,'ebin',[elo estp ehi])             % specify energy bin in meV\n",
      ">> spaghetti_plot(...,'logscale')                        % plots intensity in log10 scale\n",
      ">> spaghetti_plot(...,'clim',[cmin cmax])                % sets the colorscale (needed for logscale)\n",
      "\n",
      ">> wdisp = spaghetti_plot(...)                           % outputs the cuts as a d2d array\n",
      ">> wdisp = spaghetti_plot(...,'noplot')                  % outputs arrays without plotting\n",
      "\n",
      ">> [wdisp,cuts] = spaghetti_plot(...)                    % generates a set of 1D cuts\n",
      ">> [wdisp, cuts] = spaghetti_plot(...,'withpix')         % return cuts as sqw rather than d1ds\n",
      ">> [wdisp,cuts,fig,axes,plots] = spaghetti_plot(...)     % in addition\n",
      "to 1D cuts return references to the\n",
      "plot objects i.e. figure handle, axes\n",
      "handle and array of handles to each\n",
      "line plot displayed by spaghetti plot\n",
      "Input:\n",
      "------\n",
      "rlp             Array of r.l.p. e.g. [0,0,0; 0,0,1; 1,0,1; 1,0,0];\n",
      "\n",
      "data_source     Data source: sqw object or filename of a file with sqw-type data\n",
      "(character string or cellarray with one character string)\n",
      "\n",
      "wdisp           Array of d2d or IX_dataset_2d objects containing the\n",
      "cuts - e.g. previous generated spaghetti plot.\n",
      "\n",
      "Keyword options (can be abbreviated to single letter):\n",
      "\n",
      "'labels'        Tick labels to place at the positions of the Q points in\n",
      "argument rlp.\n",
      "e.g. {'G','X','M','R'}\n",
      "By default the labels are character representations of rlp\n",
      "e.g. {0,0,0; 0.5,0,0; 0.5,0.5,0; 0.5,0.5,0.5}\n",
      "becomes\n",
      "{'0,0,0', '0.5,0,0', '0.5,0.5,0', '0.5,0.5,0.5'}\n",
      "\n",
      "'smooth'        Applies smoothing to the cuts. The parameter specifies the smoothing\n",
      "width (default = 0 ; i.e. no smoothing)\n",
      "\n",
      "'smooth_shape'  Applies smoothing to the cuts with this functions. (default: 'hat')\n",
      "'hat'        hat function\n",
      "- width gives FWHH along each dimension in pixels\n",
      "- width = 1,3,5,...;  n=0 or 1 => no smoothing\n",
      "'gaussian'   Gaussian\n",
      "- width gives FWHH along each dimension in pixels\n",
      "- elements where more than 2% of peak intensity\n",
      "are retained\n",
      "\n",
      "'resolution' Correlated Gaussian (suitable for e.g. powder data)\n",
      "\n",
      "Note that smoothing only works on initial cuts, not with reploting\n",
      "\n",
      "'qbin'          Size of momentum transfer bins in 1/Ang (default = 0.05)\n",
      "\n",
      "'qwidth'        Integration width for q-directions perpendicular to the desired q\n",
      "in 1/Ang. This may either be a scalar which will be applied to\n",
      "both perpendicular directions, or a 2-vector [dqv dqw] with dqv\n",
      "being the width in v, and dqw the width in w (see below)\n",
      "(default = 0.1)\n",
      "\n",
      "A qwidth can be specified in either form for each segment, this\n",
      "must match the number of segments (nrlp - 1)\n",
      "\n",
      "'ebin'          The energy bin parameters in meV as a 3-vector [min, step, max]\n",
      "(default: use energy bins in data_source)\n",
      "\n",
      "'logscale'      Plots the data in a logarithmic (base 10) scale if true\n",
      "\n",
      "'clim'          A 2-vector giving the signal (colour) value limits. This is needed\n",
      "if using 'logscale' as this breaks the interactive slider.\n",
      "(default: [NaN NaN] - use limits of data)\n",
      "\n",
      "'cuts_plot_size' under normal operation, the width of every part of\n",
      "spaghetti plot is proportional to the physical distance (A^-1)\n",
      "between various points in reciprocal space (the rlp\n",
      "parameter)\n",
      "This parameter should be followed by the list of the\n",
      "relative plot widths, every panel of the spaghetti\n",
      "plot would occupy. E.g. If your rlp are\n",
      "[0,0,0;1,0,0;1/2,1/2,0], the X-sizes of the plot\n",
      "[0,0,0]->[1,0,0] and [1,0,0]->[1/2,1/2,0] would be\n",
      "related as 1 to 1/sqrt(2) (in Cubic lattice). If you provide\n",
      "cuts_plot_size array equal [1,1], the length of X-axis\n",
      "on the each q-panel plot would be equal.\n",
      "\n",
      "TODO: big changes in the width of the sub-plots will\n",
      "cause big difference in the sub-plot resolution. The\n",
      "changes in the plot width should cause changes in qbin too.\n",
      "\n",
      "'withpix'      If cuts are returned this will return full sqw objects with\n",
      "pixel information rather than d1d image objects.\n",
      "\n",
      "Output:\n",
      "-------\n",
      "wdisp       Array of d2d objects containing the cuts, one per q-segment.\n",
      "\n",
      "cuts        Array of d1d|sqw objects of energy cuts along the hkl-lines\n",
      "\n",
      "The function determines the q-directions for cuts of the sqw object as follows:\n",
      "u is the direction between the desired q-points specified in rlp\n",
      "v is the direction perpendicular to u and c* (or u and a* if u||c*)\n",
      "w is the direction perpendicular to u and v\n",
      "\n",
      "However, if the function detects that all the rlp lies in a plane (e.g. a*-b*) then\n",
      "it will set v to be perpendicular to this plane for all segments.\n",
      "\n",
      "Original author: M. D. Le\n",
      "\n",
      "\n",
      "TODO: Make it work for dnd objects (no arbitrary projections...)\n",
      "\n",
      "Set defaults\n",
      "------------\n"
     ]
    }
   ],
   "source": [
    "import pace_helper\n",
    "pace_helper.pace_helper('spaghetti_plot')"
   ]
  }
 ],
 "metadata": {
  "kernelspec": {
   "display_name": "pace_env",
   "language": "python",
   "name": "python3"
  },
  "language_info": {
   "codemirror_mode": {
    "name": "ipython",
    "version": 3
   },
   "file_extension": ".py",
   "mimetype": "text/x-python",
   "name": "python",
   "nbconvert_exporter": "python",
   "pygments_lexer": "ipython3",
   "version": "3.10.16"
  }
 },
 "nbformat": 4,
 "nbformat_minor": 5
}
