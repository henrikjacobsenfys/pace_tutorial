{
 "cells": [
  {
   "cell_type": "markdown",
   "id": "43af2c02",
   "metadata": {},
   "source": [
    "## Plotting the data\n",
    "Now it's time to have fun plotting the data. We need to define which axes we want to view the data along. For example, sometimes we may want to view along (1,0,0), (0,1,0) and (0,0,1), while other times, it may be useful to view along a different pair of directions, such as (1,1,0),(1,-1,0) and (0,0,1). The choice of primary axes is made using the proj dictionary, as seen below.\n",
    "\n",
    "To make a plot, we need to cut the .sqw file in some way. We use the `cut_sqw` command for this. It takes as input the `.sqw` file, the projection axes, and four arrays: one for each primary axis, the fourth being energy. For each of the arrays, there are two options. If the user provides two values, e.g. `[-0.1,0.1]` the counts between these two values are summed, and the axis is not viewed. If the user provides three values, e.g. `[-2,0.05,1]`, the data is binned along this axis in bins starting at the first value (`-2`), with a step size of the middle value (`0.05`), ending at the last value (`1`). \n",
    "\n",
    "The type of cut therefore depends on how many directions the user sums over. Some examples are given below.\n",
    "\n",
    "Details can be found in the Horace documentation: https://pace-neutrons.github.io/Horace/v4.0.0/manual/Cutting_data_of_interest_from_SQW_files_and_objects.html#cut "
   ]
  },
  {
   "cell_type": "code",
   "execution_count": null,
   "id": "32113325",
   "metadata": {},
   "outputs": [],
   "source": [
    "from pace_neutrons import Matlab\n",
    "m = Matlab()"
   ]
  },
  {
   "cell_type": "code",
   "execution_count": null,
   "id": "eb3bfbf4",
   "metadata": {},
   "outputs": [],
   "source": [
    "\n",
    "sqw_file = 'demo.sqw'\n",
    "proj = {\n",
    "    'u': [1, 0, 0],\n",
    "    'v': [0, 1, 0],\n",
    "    'type': 'rrr'\n",
    "}\n",
    "\n",
    "%matlab_plot_mode inline inline\n",
    "%matlab_fig -w 1600 -h 1200 \n",
    "# 2D slice\n",
    "cc2 = m.cut_sqw(sqw_file, proj, [-2, 0.05, 1], [-2-0.1, -2+0.1], [-0.1, 0.1], [0, 16, 400])\n",
    "m.plot(cc2)\n"
   ]
  },
  {
   "cell_type": "markdown",
   "id": "cdce3933",
   "metadata": {},
   "source": [
    "# A note on figures\n",
    "There are two ways to make Matlab figures in a Jupyter Notebook. Details can be found in the documentation: https://github.com/pace-neutrons/pace-python/blob/main/docs/IPythonMagics_commands.md.\n",
    "\n",
    "The first methods is inline as shown above. As illustrated, the size of the figure can be varied as illustrated above using the `%matlab_fig -w 1600 -h 1200 ` command. The figure is simply a screenshot of the Matlab figure, and can therefore not be edited.\n",
    "\n",
    "The second method is windowed figures, which opens a Matlab figure, which can then be edited at will. The command is `%matlab_plot_mode windowed`. We shall illustrate it in the following cell, then stick to the inline figures."
   ]
  },
  {
   "cell_type": "code",
   "execution_count": null,
   "id": "4e7ffd8f",
   "metadata": {},
   "outputs": [],
   "source": [
    "\n",
    "%matlab_plot_mode windowed\n",
    "m.plot(cc2)\n",
    "m.keep_figure() # Keeps the figure open instead of overwriting it with the next plot\n"
   ]
  },
  {
   "cell_type": "code",
   "execution_count": null,
   "id": "8ac95d3f",
   "metadata": {},
   "outputs": [],
   "source": [
    "%matlab_plot_mode inline inline\n",
    "%matlab_fig -w 1600 -h 1200 \n",
    "# 1D cut\n",
    "cc1 = m.cut_sqw(sqw_file, proj, [1.9, 2.1], [-3, 0.05, 3], [-0.1, 0.1], [180, 220])\n",
    "m.plot(cc1)\n"
   ]
  },
  {
   "cell_type": "markdown",
   "id": "c0a3ff3a",
   "metadata": {},
   "source": [
    "You can also plot in 3D, and make 2D slices interactively as you please. For this, windowed mode is obviously best. Try it out, and try also to make other 1D and 2D cuts. It should look like this:\n",
    "\n",
    "<img src='_images/sliceomatic.jpg' width='800px'></img>\n",
    "\n",
    "\n",
    "You can select which surfaces to plot by clicking on the sliders next to each axis. In this example, three surfaces are shown, indicated by the green arrows."
   ]
  },
  {
   "cell_type": "code",
   "execution_count": null,
   "id": "325ea06e",
   "metadata": {},
   "outputs": [],
   "source": [
    "%matlab_plot_mode windowed\n",
    "cc3 = m.cut_sqw(sqw_file, proj, [-2, 0.05, 2], [-2, 0.05, 2], [-0.1, 0.1], [0, 16, 400])\n",
    "m.plot(cc3)\n"
   ]
  },
  {
   "cell_type": "code",
   "execution_count": null,
   "id": "fda204ab",
   "metadata": {},
   "outputs": [],
   "source": [
    "# Finally, let us look at spaghetti plots. \n",
    "wsp = m.spaghetti_plot([[0, 0, 0], [0.5, 0.5, 0.5], [0.5, 0.5, 0]],sqw_file) #,'labels',{'\\\\Gamma','R','M'})\n"
   ]
  }
 ],
 "metadata": {
  "kernelspec": {
   "display_name": "pace_env",
   "language": "python",
   "name": "python3"
  },
  "language_info": {
   "codemirror_mode": {
    "name": "ipython",
    "version": 3
   },
   "file_extension": ".py",
   "mimetype": "text/x-python",
   "name": "python",
   "nbconvert_exporter": "python",
   "pygments_lexer": "ipython3",
   "version": "3.10.16"
  }
 },
 "nbformat": 4,
 "nbformat_minor": 5
}
